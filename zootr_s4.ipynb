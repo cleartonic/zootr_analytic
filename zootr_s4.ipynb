{
 "cells": [
  {
   "cell_type": "code",
   "execution_count": 3,
   "metadata": {},
   "outputs": [],
   "source": [
    "from script import *\n"
   ]
  },
  {
   "cell_type": "markdown",
   "metadata": {},
   "source": [
    "### Barren Regions\n",
    "#### \"On average, what percent of areas are barren per seed?\"\n",
    "\n",
    "- This is NOT the gossip hint system, this is given per the spoiler. The hints are picked from barren regions from this list.\n",
    "- Read 'count' column as number of seeds that have X region as a barren region.\n",
    "- Notice how songs areas are never barren. Same goes for barren hints. It appears the randomization engine avoids dealing with this song problem entirely by avoiding hints at those regions altogether."
   ]
  },
  {
   "cell_type": "code",
   "execution_count": 4,
   "metadata": {},
   "outputs": [
    {
     "name": "stdout",
     "output_type": "stream",
     "text": [
      "\n",
      "Barren regions:\n",
      "This is NOT the gossip hint system, this is given per the spoiler. The hints are picked from barren regions from this list.\n",
      "Read 'count' column as number of seeds that have X region as a barren region.\n",
      "Notice how songs areas are never barren. Same goes for barren hints. It appears the randomization engine avoids dealing with this song problem entirely by avoiding hints at those regions altogether.\n",
      "| location                |   count |      pct |\n",
      "|:------------------------|--------:|---------:|\n",
      "| outside Ganon's Castle  |    7580 | 84.1381  |\n",
      "| Haunted Wasteland       |    7438 | 82.5619  |\n",
      "| Hyrule Castle           |    7359 | 81.685   |\n",
      "| Zora's Fountain         |    5186 | 57.5647  |\n",
      "| Gerudo's Fortress       |    4975 | 55.2226  |\n",
      "| Zora's Domain           |    4714 | 52.3255  |\n",
      "| Gerudo Valley           |    4630 | 51.3931  |\n",
      "| Water Temple            |    4472 | 49.6392  |\n",
      "| Jabu Jabu's Belly       |    4265 | 47.3415  |\n",
      "| Zora's River            |    3142 | 34.8762  |\n",
      "| Death Mountain Trail    |    3019 | 33.5109  |\n",
      "| Fire Temple             |    2805 | 31.1355  |\n",
      "| Lake Hylia              |    2477 | 27.4947  |\n",
      "| the Market              |    2444 | 27.1284  |\n",
      "| Kokiri Forest           |    2133 | 23.6763  |\n",
      "| Deku Tree               |    2115 | 23.4765  |\n",
      "| Goron City              |    1918 | 21.2898  |\n",
      "| Dodongo's Cavern        |    1818 | 20.1798  |\n",
      "| the Lost Woods          |    1789 | 19.8579  |\n",
      "| Forest Temple           |    1740 | 19.314   |\n",
      "| Shadow Temple           |    1250 | 13.875   |\n",
      "| Bottom of the Well      |    1046 | 11.6106  |\n",
      "| Spirit Temple           |     658 |  7.30381 |\n",
      "| Gerudo Training Grounds |     632 |  7.01521 |\n",
      "| Ganon's Castle          |     617 |  6.84871 |\n"
     ]
    }
   ],
   "source": [
    "b1()"
   ]
  },
  {
   "cell_type": "code",
   "execution_count": null,
   "metadata": {},
   "outputs": [],
   "source": []
  },
  {
   "cell_type": "code",
   "execution_count": null,
   "metadata": {},
   "outputs": [],
   "source": []
  }
 ],
 "metadata": {
  "kernelspec": {
   "display_name": "Python 3",
   "language": "python",
   "name": "python3"
  },
  "language_info": {
   "codemirror_mode": {
    "name": "ipython",
    "version": 3
   },
   "file_extension": ".py",
   "mimetype": "text/x-python",
   "name": "python",
   "nbconvert_exporter": "python",
   "pygments_lexer": "ipython3",
   "version": "3.7.7"
  }
 },
 "nbformat": 4,
 "nbformat_minor": 4
}
